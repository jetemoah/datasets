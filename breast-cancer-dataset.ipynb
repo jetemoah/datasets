{
 "cells": [
  {
   "cell_type": "markdown",
   "id": "4212f821",
   "metadata": {
    "papermill": {
     "duration": 0.005034,
     "end_time": "2025-08-07T01:35:31.834695",
     "exception": false,
     "start_time": "2025-08-07T01:35:31.829661",
     "status": "completed"
    },
    "tags": []
   },
   "source": [
    "**1.0 Load Dataset**\n",
    "\n",
    "- import core libraries numpy & padas for data handling\n",
    "- read CSV file into DataFrame (df)"
   ]
  },
  {
   "cell_type": "code",
   "execution_count": 1,
   "id": "d5357a3f",
   "metadata": {
    "_cell_guid": "b1076dfc-b9ad-4769-8c92-a6c4dae69d19",
    "_uuid": "8f2839f25d086af736a60e9eeb907d3b93b6e0e5",
    "execution": {
     "iopub.execute_input": "2025-08-07T01:35:31.844139Z",
     "iopub.status.busy": "2025-08-07T01:35:31.843733Z",
     "iopub.status.idle": "2025-08-07T01:35:33.859796Z",
     "shell.execute_reply": "2025-08-07T01:35:33.858776Z"
    },
    "papermill": {
     "duration": 2.023357,
     "end_time": "2025-08-07T01:35:33.862139",
     "exception": false,
     "start_time": "2025-08-07T01:35:31.838782",
     "status": "completed"
    },
    "tags": []
   },
   "outputs": [
    {
     "name": "stderr",
     "output_type": "stream",
     "text": [
      "/usr/local/lib/python3.11/dist-packages/pandas/io/formats/format.py:1458: RuntimeWarning: invalid value encountered in greater\n",
      "  has_large_values = (abs_vals > 1e6).any()\n",
      "/usr/local/lib/python3.11/dist-packages/pandas/io/formats/format.py:1459: RuntimeWarning: invalid value encountered in less\n",
      "  has_small_values = ((abs_vals < 10 ** (-self.digits)) & (abs_vals > 0)).any()\n",
      "/usr/local/lib/python3.11/dist-packages/pandas/io/formats/format.py:1459: RuntimeWarning: invalid value encountered in greater\n",
      "  has_small_values = ((abs_vals < 10 ** (-self.digits)) & (abs_vals > 0)).any()\n",
      "/usr/local/lib/python3.11/dist-packages/pandas/io/formats/format.py:1458: RuntimeWarning: invalid value encountered in greater\n",
      "  has_large_values = (abs_vals > 1e6).any()\n",
      "/usr/local/lib/python3.11/dist-packages/pandas/io/formats/format.py:1459: RuntimeWarning: invalid value encountered in less\n",
      "  has_small_values = ((abs_vals < 10 ** (-self.digits)) & (abs_vals > 0)).any()\n",
      "/usr/local/lib/python3.11/dist-packages/pandas/io/formats/format.py:1459: RuntimeWarning: invalid value encountered in greater\n",
      "  has_small_values = ((abs_vals < 10 ** (-self.digits)) & (abs_vals > 0)).any()\n"
     ]
    },
    {
     "data": {
      "text/html": [
       "<div>\n",
       "<style scoped>\n",
       "    .dataframe tbody tr th:only-of-type {\n",
       "        vertical-align: middle;\n",
       "    }\n",
       "\n",
       "    .dataframe tbody tr th {\n",
       "        vertical-align: top;\n",
       "    }\n",
       "\n",
       "    .dataframe thead th {\n",
       "        text-align: right;\n",
       "    }\n",
       "</style>\n",
       "<table border=\"1\" class=\"dataframe\">\n",
       "  <thead>\n",
       "    <tr style=\"text-align: right;\">\n",
       "      <th></th>\n",
       "      <th>id</th>\n",
       "      <th>diagnosis</th>\n",
       "      <th>radius_mean</th>\n",
       "      <th>texture_mean</th>\n",
       "      <th>perimeter_mean</th>\n",
       "      <th>area_mean</th>\n",
       "      <th>smoothness_mean</th>\n",
       "      <th>compactness_mean</th>\n",
       "      <th>concavity_mean</th>\n",
       "      <th>concave points_mean</th>\n",
       "      <th>...</th>\n",
       "      <th>texture_worst</th>\n",
       "      <th>perimeter_worst</th>\n",
       "      <th>area_worst</th>\n",
       "      <th>smoothness_worst</th>\n",
       "      <th>compactness_worst</th>\n",
       "      <th>concavity_worst</th>\n",
       "      <th>concave points_worst</th>\n",
       "      <th>symmetry_worst</th>\n",
       "      <th>fractal_dimension_worst</th>\n",
       "      <th>Unnamed: 32</th>\n",
       "    </tr>\n",
       "  </thead>\n",
       "  <tbody>\n",
       "    <tr>\n",
       "      <th>0</th>\n",
       "      <td>842302</td>\n",
       "      <td>M</td>\n",
       "      <td>17.99</td>\n",
       "      <td>10.38</td>\n",
       "      <td>122.80</td>\n",
       "      <td>1001.0</td>\n",
       "      <td>0.11840</td>\n",
       "      <td>0.27760</td>\n",
       "      <td>0.3001</td>\n",
       "      <td>0.14710</td>\n",
       "      <td>...</td>\n",
       "      <td>17.33</td>\n",
       "      <td>184.60</td>\n",
       "      <td>2019.0</td>\n",
       "      <td>0.1622</td>\n",
       "      <td>0.6656</td>\n",
       "      <td>0.7119</td>\n",
       "      <td>0.2654</td>\n",
       "      <td>0.4601</td>\n",
       "      <td>0.11890</td>\n",
       "      <td>NaN</td>\n",
       "    </tr>\n",
       "    <tr>\n",
       "      <th>1</th>\n",
       "      <td>842517</td>\n",
       "      <td>M</td>\n",
       "      <td>20.57</td>\n",
       "      <td>17.77</td>\n",
       "      <td>132.90</td>\n",
       "      <td>1326.0</td>\n",
       "      <td>0.08474</td>\n",
       "      <td>0.07864</td>\n",
       "      <td>0.0869</td>\n",
       "      <td>0.07017</td>\n",
       "      <td>...</td>\n",
       "      <td>23.41</td>\n",
       "      <td>158.80</td>\n",
       "      <td>1956.0</td>\n",
       "      <td>0.1238</td>\n",
       "      <td>0.1866</td>\n",
       "      <td>0.2416</td>\n",
       "      <td>0.1860</td>\n",
       "      <td>0.2750</td>\n",
       "      <td>0.08902</td>\n",
       "      <td>NaN</td>\n",
       "    </tr>\n",
       "    <tr>\n",
       "      <th>2</th>\n",
       "      <td>84300903</td>\n",
       "      <td>M</td>\n",
       "      <td>19.69</td>\n",
       "      <td>21.25</td>\n",
       "      <td>130.00</td>\n",
       "      <td>1203.0</td>\n",
       "      <td>0.10960</td>\n",
       "      <td>0.15990</td>\n",
       "      <td>0.1974</td>\n",
       "      <td>0.12790</td>\n",
       "      <td>...</td>\n",
       "      <td>25.53</td>\n",
       "      <td>152.50</td>\n",
       "      <td>1709.0</td>\n",
       "      <td>0.1444</td>\n",
       "      <td>0.4245</td>\n",
       "      <td>0.4504</td>\n",
       "      <td>0.2430</td>\n",
       "      <td>0.3613</td>\n",
       "      <td>0.08758</td>\n",
       "      <td>NaN</td>\n",
       "    </tr>\n",
       "    <tr>\n",
       "      <th>3</th>\n",
       "      <td>84348301</td>\n",
       "      <td>M</td>\n",
       "      <td>11.42</td>\n",
       "      <td>20.38</td>\n",
       "      <td>77.58</td>\n",
       "      <td>386.1</td>\n",
       "      <td>0.14250</td>\n",
       "      <td>0.28390</td>\n",
       "      <td>0.2414</td>\n",
       "      <td>0.10520</td>\n",
       "      <td>...</td>\n",
       "      <td>26.50</td>\n",
       "      <td>98.87</td>\n",
       "      <td>567.7</td>\n",
       "      <td>0.2098</td>\n",
       "      <td>0.8663</td>\n",
       "      <td>0.6869</td>\n",
       "      <td>0.2575</td>\n",
       "      <td>0.6638</td>\n",
       "      <td>0.17300</td>\n",
       "      <td>NaN</td>\n",
       "    </tr>\n",
       "    <tr>\n",
       "      <th>4</th>\n",
       "      <td>84358402</td>\n",
       "      <td>M</td>\n",
       "      <td>20.29</td>\n",
       "      <td>14.34</td>\n",
       "      <td>135.10</td>\n",
       "      <td>1297.0</td>\n",
       "      <td>0.10030</td>\n",
       "      <td>0.13280</td>\n",
       "      <td>0.1980</td>\n",
       "      <td>0.10430</td>\n",
       "      <td>...</td>\n",
       "      <td>16.67</td>\n",
       "      <td>152.20</td>\n",
       "      <td>1575.0</td>\n",
       "      <td>0.1374</td>\n",
       "      <td>0.2050</td>\n",
       "      <td>0.4000</td>\n",
       "      <td>0.1625</td>\n",
       "      <td>0.2364</td>\n",
       "      <td>0.07678</td>\n",
       "      <td>NaN</td>\n",
       "    </tr>\n",
       "  </tbody>\n",
       "</table>\n",
       "<p>5 rows × 33 columns</p>\n",
       "</div>"
      ],
      "text/plain": [
       "         id diagnosis  radius_mean  texture_mean  perimeter_mean  area_mean  \\\n",
       "0    842302         M        17.99         10.38          122.80     1001.0   \n",
       "1    842517         M        20.57         17.77          132.90     1326.0   \n",
       "2  84300903         M        19.69         21.25          130.00     1203.0   \n",
       "3  84348301         M        11.42         20.38           77.58      386.1   \n",
       "4  84358402         M        20.29         14.34          135.10     1297.0   \n",
       "\n",
       "   smoothness_mean  compactness_mean  concavity_mean  concave points_mean  \\\n",
       "0          0.11840           0.27760          0.3001              0.14710   \n",
       "1          0.08474           0.07864          0.0869              0.07017   \n",
       "2          0.10960           0.15990          0.1974              0.12790   \n",
       "3          0.14250           0.28390          0.2414              0.10520   \n",
       "4          0.10030           0.13280          0.1980              0.10430   \n",
       "\n",
       "   ...  texture_worst  perimeter_worst  area_worst  smoothness_worst  \\\n",
       "0  ...          17.33           184.60      2019.0            0.1622   \n",
       "1  ...          23.41           158.80      1956.0            0.1238   \n",
       "2  ...          25.53           152.50      1709.0            0.1444   \n",
       "3  ...          26.50            98.87       567.7            0.2098   \n",
       "4  ...          16.67           152.20      1575.0            0.1374   \n",
       "\n",
       "   compactness_worst  concavity_worst  concave points_worst  symmetry_worst  \\\n",
       "0             0.6656           0.7119                0.2654          0.4601   \n",
       "1             0.1866           0.2416                0.1860          0.2750   \n",
       "2             0.4245           0.4504                0.2430          0.3613   \n",
       "3             0.8663           0.6869                0.2575          0.6638   \n",
       "4             0.2050           0.4000                0.1625          0.2364   \n",
       "\n",
       "   fractal_dimension_worst  Unnamed: 32  \n",
       "0                  0.11890          NaN  \n",
       "1                  0.08902          NaN  \n",
       "2                  0.08758          NaN  \n",
       "3                  0.17300          NaN  \n",
       "4                  0.07678          NaN  \n",
       "\n",
       "[5 rows x 33 columns]"
      ]
     },
     "metadata": {},
     "output_type": "display_data"
    },
    {
     "name": "stdout",
     "output_type": "stream",
     "text": [
      "\n",
      "Dataset Shape:  (569, 33)\n"
     ]
    }
   ],
   "source": [
    "import numpy as np\n",
    "import pandas as pd\n",
    "\n",
    "# read dataset file\n",
    "df = pd.read_csv(\"/kaggle/input/breast-cancer-dataset/Breast_cancer_dataset.csv\")\n",
    "\n",
    "# quick peek (sample of dataset)\n",
    "display(df.head())\n",
    "\n",
    "# check size of dataset sample\n",
    "print(\"\\nDataset Shape: \", df.shape)"
   ]
  },
  {
   "cell_type": "markdown",
   "id": "fc061de3",
   "metadata": {
    "papermill": {
     "duration": 0.003991,
     "end_time": "2025-08-07T01:35:33.870534",
     "exception": false,
     "start_time": "2025-08-07T01:35:33.866543",
     "status": "completed"
    },
    "tags": []
   },
   "source": [
    "**1.1 Remove Irrelevant Columns (Clean Data)**\n",
    "\n",
    "- id is a row identifier, no contribution to prediction\n",
    "- Unnamed: 32 is an empty column from CSV export "
   ]
  },
  {
   "cell_type": "code",
   "execution_count": 2,
   "id": "a34e3ff3",
   "metadata": {
    "execution": {
     "iopub.execute_input": "2025-08-07T01:35:33.880466Z",
     "iopub.status.busy": "2025-08-07T01:35:33.880126Z",
     "iopub.status.idle": "2025-08-07T01:35:33.903131Z",
     "shell.execute_reply": "2025-08-07T01:35:33.902226Z"
    },
    "papermill": {
     "duration": 0.029914,
     "end_time": "2025-08-07T01:35:33.904802",
     "exception": false,
     "start_time": "2025-08-07T01:35:33.874888",
     "status": "completed"
    },
    "tags": []
   },
   "outputs": [
    {
     "data": {
      "text/plain": [
       "<bound method NDFrame.head of     diagnosis  radius_mean  texture_mean  perimeter_mean  area_mean  \\\n",
       "0           M        17.99         10.38          122.80     1001.0   \n",
       "1           M        20.57         17.77          132.90     1326.0   \n",
       "2           M        19.69         21.25          130.00     1203.0   \n",
       "3           M        11.42         20.38           77.58      386.1   \n",
       "4           M        20.29         14.34          135.10     1297.0   \n",
       "..        ...          ...           ...             ...        ...   \n",
       "564         M        21.56         22.39          142.00     1479.0   \n",
       "565         M        20.13         28.25          131.20     1261.0   \n",
       "566         M        16.60         28.08          108.30      858.1   \n",
       "567         M        20.60         29.33          140.10     1265.0   \n",
       "568         B         7.76         24.54           47.92      181.0   \n",
       "\n",
       "     smoothness_mean  compactness_mean  concavity_mean  concave points_mean  \\\n",
       "0            0.11840           0.27760         0.30010              0.14710   \n",
       "1            0.08474           0.07864         0.08690              0.07017   \n",
       "2            0.10960           0.15990         0.19740              0.12790   \n",
       "3            0.14250           0.28390         0.24140              0.10520   \n",
       "4            0.10030           0.13280         0.19800              0.10430   \n",
       "..               ...               ...             ...                  ...   \n",
       "564          0.11100           0.11590         0.24390              0.13890   \n",
       "565          0.09780           0.10340         0.14400              0.09791   \n",
       "566          0.08455           0.10230         0.09251              0.05302   \n",
       "567          0.11780           0.27700         0.35140              0.15200   \n",
       "568          0.05263           0.04362         0.00000              0.00000   \n",
       "\n",
       "     symmetry_mean  ...  radius_worst  texture_worst  perimeter_worst  \\\n",
       "0           0.2419  ...        25.380          17.33           184.60   \n",
       "1           0.1812  ...        24.990          23.41           158.80   \n",
       "2           0.2069  ...        23.570          25.53           152.50   \n",
       "3           0.2597  ...        14.910          26.50            98.87   \n",
       "4           0.1809  ...        22.540          16.67           152.20   \n",
       "..             ...  ...           ...            ...              ...   \n",
       "564         0.1726  ...        25.450          26.40           166.10   \n",
       "565         0.1752  ...        23.690          38.25           155.00   \n",
       "566         0.1590  ...        18.980          34.12           126.70   \n",
       "567         0.2397  ...        25.740          39.42           184.60   \n",
       "568         0.1587  ...         9.456          30.37            59.16   \n",
       "\n",
       "     area_worst  smoothness_worst  compactness_worst  concavity_worst  \\\n",
       "0        2019.0           0.16220            0.66560           0.7119   \n",
       "1        1956.0           0.12380            0.18660           0.2416   \n",
       "2        1709.0           0.14440            0.42450           0.4504   \n",
       "3         567.7           0.20980            0.86630           0.6869   \n",
       "4        1575.0           0.13740            0.20500           0.4000   \n",
       "..          ...               ...                ...              ...   \n",
       "564      2027.0           0.14100            0.21130           0.4107   \n",
       "565      1731.0           0.11660            0.19220           0.3215   \n",
       "566      1124.0           0.11390            0.30940           0.3403   \n",
       "567      1821.0           0.16500            0.86810           0.9387   \n",
       "568       268.6           0.08996            0.06444           0.0000   \n",
       "\n",
       "     concave points_worst  symmetry_worst  fractal_dimension_worst  \n",
       "0                  0.2654          0.4601                  0.11890  \n",
       "1                  0.1860          0.2750                  0.08902  \n",
       "2                  0.2430          0.3613                  0.08758  \n",
       "3                  0.2575          0.6638                  0.17300  \n",
       "4                  0.1625          0.2364                  0.07678  \n",
       "..                    ...             ...                      ...  \n",
       "564                0.2216          0.2060                  0.07115  \n",
       "565                0.1628          0.2572                  0.06637  \n",
       "566                0.1418          0.2218                  0.07820  \n",
       "567                0.2650          0.4087                  0.12400  \n",
       "568                0.0000          0.2871                  0.07039  \n",
       "\n",
       "[569 rows x 31 columns]>"
      ]
     },
     "metadata": {},
     "output_type": "display_data"
    },
    {
     "name": "stdout",
     "output_type": "stream",
     "text": [
      "\n",
      "New Dataset Shape:  (569, 31)\n"
     ]
    }
   ],
   "source": [
    "# drop unused column(s)\n",
    "df.drop(columns=[\"id\", \"Unnamed: 32\"], inplace=True)\n",
    "\n",
    "display(df.head)\n",
    "\n",
    "print(\"\\nNew Dataset Shape: \", df.shape)"
   ]
  },
  {
   "cell_type": "markdown",
   "id": "3602a617",
   "metadata": {
    "papermill": {
     "duration": 0.004169,
     "end_time": "2025-08-07T01:35:33.913516",
     "exception": false,
     "start_time": "2025-08-07T01:35:33.909347",
     "status": "completed"
    },
    "tags": []
   },
   "source": [
    "**1.2 Inspect Data Structure & Missing Values**\n",
    "\n",
    "- display each column's data type with count of non-null entries\n",
    "- total missing (null) values to test if dataset is complete"
   ]
  },
  {
   "cell_type": "code",
   "execution_count": 3,
   "id": "902196f4",
   "metadata": {
    "execution": {
     "iopub.execute_input": "2025-08-07T01:35:33.923550Z",
     "iopub.status.busy": "2025-08-07T01:35:33.923223Z",
     "iopub.status.idle": "2025-08-07T01:35:33.948238Z",
     "shell.execute_reply": "2025-08-07T01:35:33.947046Z"
    },
    "papermill": {
     "duration": 0.031882,
     "end_time": "2025-08-07T01:35:33.949867",
     "exception": false,
     "start_time": "2025-08-07T01:35:33.917985",
     "status": "completed"
    },
    "tags": []
   },
   "outputs": [
    {
     "name": "stdout",
     "output_type": "stream",
     "text": [
      "<class 'pandas.core.frame.DataFrame'>\n",
      "RangeIndex: 569 entries, 0 to 568\n",
      "Data columns (total 31 columns):\n",
      " #   Column                   Non-Null Count  Dtype  \n",
      "---  ------                   --------------  -----  \n",
      " 0   diagnosis                569 non-null    object \n",
      " 1   radius_mean              569 non-null    float64\n",
      " 2   texture_mean             569 non-null    float64\n",
      " 3   perimeter_mean           569 non-null    float64\n",
      " 4   area_mean                569 non-null    float64\n",
      " 5   smoothness_mean          569 non-null    float64\n",
      " 6   compactness_mean         569 non-null    float64\n",
      " 7   concavity_mean           569 non-null    float64\n",
      " 8   concave points_mean      569 non-null    float64\n",
      " 9   symmetry_mean            569 non-null    float64\n",
      " 10  fractal_dimension_mean   569 non-null    float64\n",
      " 11  radius_se                569 non-null    float64\n",
      " 12  texture_se               569 non-null    float64\n",
      " 13  perimeter_se             569 non-null    float64\n",
      " 14  area_se                  569 non-null    float64\n",
      " 15  smoothness_se            569 non-null    float64\n",
      " 16  compactness_se           569 non-null    float64\n",
      " 17  concavity_se             569 non-null    float64\n",
      " 18  concave points_se        569 non-null    float64\n",
      " 19  symmetry_se              569 non-null    float64\n",
      " 20  fractal_dimension_se     569 non-null    float64\n",
      " 21  radius_worst             569 non-null    float64\n",
      " 22  texture_worst            569 non-null    float64\n",
      " 23  perimeter_worst          569 non-null    float64\n",
      " 24  area_worst               569 non-null    float64\n",
      " 25  smoothness_worst         569 non-null    float64\n",
      " 26  compactness_worst        569 non-null    float64\n",
      " 27  concavity_worst          569 non-null    float64\n",
      " 28  concave points_worst     569 non-null    float64\n",
      " 29  symmetry_worst           569 non-null    float64\n",
      " 30  fractal_dimension_worst  569 non-null    float64\n",
      "dtypes: float64(30), object(1)\n",
      "memory usage: 137.9+ KB\n",
      "diagnosis                  0\n",
      "radius_mean                0\n",
      "texture_mean               0\n",
      "perimeter_mean             0\n",
      "area_mean                  0\n",
      "smoothness_mean            0\n",
      "compactness_mean           0\n",
      "concavity_mean             0\n",
      "concave points_mean        0\n",
      "symmetry_mean              0\n",
      "fractal_dimension_mean     0\n",
      "radius_se                  0\n",
      "texture_se                 0\n",
      "perimeter_se               0\n",
      "area_se                    0\n",
      "smoothness_se              0\n",
      "compactness_se             0\n",
      "concavity_se               0\n",
      "concave points_se          0\n",
      "symmetry_se                0\n",
      "fractal_dimension_se       0\n",
      "radius_worst               0\n",
      "texture_worst              0\n",
      "perimeter_worst            0\n",
      "area_worst                 0\n",
      "smoothness_worst           0\n",
      "compactness_worst          0\n",
      "concavity_worst            0\n",
      "concave points_worst       0\n",
      "symmetry_worst             0\n",
      "fractal_dimension_worst    0\n",
      "dtype: int64\n"
     ]
    }
   ],
   "source": [
    "# check for missing values & types\n",
    "df.info()\n",
    "\n",
    "print(df.isnull().sum())"
   ]
  },
  {
   "cell_type": "markdown",
   "id": "e0cc769a",
   "metadata": {
    "papermill": {
     "duration": 0.004276,
     "end_time": "2025-08-07T01:35:33.958808",
     "exception": false,
     "start_time": "2025-08-07T01:35:33.954532",
     "status": "completed"
    },
    "tags": []
   },
   "source": [
    "**2.0 Explore Target Distribution**\n",
    "\n",
    "- display samples that are benign (not harmful) or malignant (harmful)\n",
    "- proportion each class in dataset (%)"
   ]
  },
  {
   "cell_type": "code",
   "execution_count": 4,
   "id": "38b4bb68",
   "metadata": {
    "execution": {
     "iopub.execute_input": "2025-08-07T01:35:33.968990Z",
     "iopub.status.busy": "2025-08-07T01:35:33.968677Z",
     "iopub.status.idle": "2025-08-07T01:35:33.976618Z",
     "shell.execute_reply": "2025-08-07T01:35:33.975747Z"
    },
    "papermill": {
     "duration": 0.014669,
     "end_time": "2025-08-07T01:35:33.977981",
     "exception": false,
     "start_time": "2025-08-07T01:35:33.963312",
     "status": "completed"
    },
    "tags": []
   },
   "outputs": [
    {
     "name": "stdout",
     "output_type": "stream",
     "text": [
      "Counts:\n",
      "diagnosis\n",
      "B    357\n",
      "M    212\n",
      "Name: count, dtype: int64\n",
      "\n",
      "Percentages:\n",
      "diagnosis\n",
      "B    0.63\n",
      "M    0.37\n",
      "Name: proportion, dtype: float64\n"
     ]
    }
   ],
   "source": [
    "# raw counts\n",
    "counts = df['diagnosis'].value_counts()\n",
    "print(\"Counts:\")\n",
    "print(counts)\n",
    "\n",
    "# percentages\n",
    "percentages = df['diagnosis'].value_counts(normalize=True*100)\n",
    "print(\"\\nPercentages:\")\n",
    "print(percentages.round(2))"
   ]
  },
  {
   "cell_type": "markdown",
   "id": "6d787356",
   "metadata": {
    "papermill": {
     "duration": 0.00413,
     "end_time": "2025-08-07T01:35:33.987617",
     "exception": false,
     "start_time": "2025-08-07T01:35:33.983487",
     "status": "completed"
    },
    "tags": []
   },
   "source": [
    "**2.1 Visualize Class Balance**"
   ]
  },
  {
   "cell_type": "code",
   "execution_count": 5,
   "id": "06307a9b",
   "metadata": {
    "execution": {
     "iopub.execute_input": "2025-08-07T01:35:33.997766Z",
     "iopub.status.busy": "2025-08-07T01:35:33.997460Z",
     "iopub.status.idle": "2025-08-07T01:35:36.300255Z",
     "shell.execute_reply": "2025-08-07T01:35:36.299071Z"
    },
    "papermill": {
     "duration": 2.31016,
     "end_time": "2025-08-07T01:35:36.302066",
     "exception": false,
     "start_time": "2025-08-07T01:35:33.991906",
     "status": "completed"
    },
    "tags": []
   },
   "outputs": [
    {
     "data": {
      "text/plain": [
       "<function matplotlib.pyplot.show(close=None, block=None)>"
      ]
     },
     "execution_count": 5,
     "metadata": {},
     "output_type": "execute_result"
    },
    {
     "data": {
      "image/png": "[encoded data removed]",
      "text/plain": [
       "<Figure size 600x600 with 1 Axes>"
      ]
     },
     "metadata": {},
     "output_type": "display_data"
    }
   ],
   "source": [
    "# bar chart\n",
    "import seaborn as sns\n",
    "import matplotlib.pyplot as plt\n",
    "\n",
    "plt.figure(figsize=(6,6))\n",
    "sns.countplot(x='diagnosis', data=df)\n",
    "plt.title(\"Count of Benign (B) vs. Malignant (M)\")\n",
    "plt.xlabel(\"Diagnosis\")\n",
    "plt.ylabel(\"Number of Samples\")\n",
    "\n",
    "for p in plt.gca().patches:\n",
    "    height = p.get_height()\n",
    "    plt.gca().text(p.get_x() + p.get_width()/2, height + 3, int(height), ha=\"center\", fontsize=12)\n",
    "plt.show"
   ]
  },
  {
   "cell_type": "markdown",
   "id": "134e13c7",
   "metadata": {
    "papermill": {
     "duration": 0.004915,
     "end_time": "2025-08-07T01:35:36.312424",
     "exception": false,
     "start_time": "2025-08-07T01:35:36.307509",
     "status": "completed"
    },
    "tags": []
   },
   "source": [
    "**3.0 Discriminative Features**\n",
    "\n",
    "By calculating the difference of the means of each feature separately for M & B, we can distrinquish which features likely are the most informative for distinguishing the two classes."
   ]
  },
  {
   "cell_type": "code",
   "execution_count": 6,
   "id": "b20e98d7",
   "metadata": {
    "execution": {
     "iopub.execute_input": "2025-08-07T01:35:36.324054Z",
     "iopub.status.busy": "2025-08-07T01:35:36.323608Z",
     "iopub.status.idle": "2025-08-07T01:35:36.335792Z",
     "shell.execute_reply": "2025-08-07T01:35:36.334810Z"
    },
    "papermill": {
     "duration": 0.019859,
     "end_time": "2025-08-07T01:35:36.337322",
     "exception": false,
     "start_time": "2025-08-07T01:35:36.317463",
     "status": "completed"
    },
    "tags": []
   },
   "outputs": [
    {
     "name": "stdout",
     "output_type": "stream",
     "text": [
      "area_worst         863.386881\n",
      "area_mean          515.586219\n",
      "perimeter_worst     54.364392\n",
      "area_se             51.537257\n",
      "perimeter_mean      37.289971\n",
      "radius_worst         7.755010\n",
      "texture_worst        5.803138\n",
      "radius_mean          5.316306\n",
      "Name: diff, dtype: float64\n"
     ]
    }
   ],
   "source": [
    "# computing mean differences\n",
    "means = df.groupby('diagnosis').mean().T\n",
    "means['diff'] = (means['M'] - means['B']).abs()\n",
    "\n",
    "top_feats = means.sort_values('diff', ascending=False)['diff'].head(8)\n",
    "print(top_feats)"
   ]
  },
  {
   "cell_type": "markdown",
   "id": "e56cdd60",
   "metadata": {
    "papermill": {
     "duration": 0.004939,
     "end_time": "2025-08-07T01:35:36.347661",
     "exception": false,
     "start_time": "2025-08-07T01:35:36.342722",
     "status": "completed"
    },
    "tags": []
   },
   "source": [
    "**3.1 Interpret Discriminative Features**\n",
    "Visualize the features' difference in each class."
   ]
  },
  {
   "cell_type": "code",
   "execution_count": 7,
   "id": "c0603f31",
   "metadata": {
    "execution": {
     "iopub.execute_input": "2025-08-07T01:35:36.360214Z",
     "iopub.status.busy": "2025-08-07T01:35:36.359305Z",
     "iopub.status.idle": "2025-08-07T01:35:37.584366Z",
     "shell.execute_reply": "2025-08-07T01:35:37.583474Z"
    },
    "papermill": {
     "duration": 1.234187,
     "end_time": "2025-08-07T01:35:37.587334",
     "exception": false,
     "start_time": "2025-08-07T01:35:36.353147",
     "status": "completed"
    },
    "tags": []
   },
   "outputs": [
    {
     "data": {
      "text/plain": [
       "<function matplotlib.pyplot.show(close=None, block=None)>"
      ]
     },
     "execution_count": 7,
     "metadata": {},
     "output_type": "execute_result"
    },
    {
     "data": {
      "image/png": "[encoded data removed]",
      "text/plain": [
       "<Figure size 1200x1600 with 8 Axes>"
      ]
     },
     "metadata": {},
     "output_type": "display_data"
    }
   ],
   "source": [
    "features = top_feats.index.tolist()\n",
    "\n",
    "n = len(features)\n",
    "cols = 2\n",
    "rows = (n+1) // cols\n",
    "fig, axes = plt.subplots(rows, cols, figsize=(cols*6, rows*4))\n",
    "\n",
    "for ax, feat in zip(axes.flatten(), features):\n",
    "    sns.boxplot(x='diagnosis', y=feat, data=df, ax=ax)\n",
    "    ax.set_title(feat)\n",
    "    ax.set_xlabel('')\n",
    "    ax.set_ylabel(feat)\n",
    "\n",
    "# remove empty subsplots\n",
    "for j in range(n, rows*cols):\n",
    "    fig.delaxes(axes.flatten()[j])\n",
    "\n",
    "plt.tight_layout\n",
    "plt.show"
   ]
  },
  {
   "cell_type": "markdown",
   "id": "1fc7e42f",
   "metadata": {
    "papermill": {
     "duration": 0.007078,
     "end_time": "2025-08-07T01:35:37.602255",
     "exception": false,
     "start_time": "2025-08-07T01:35:37.595177",
     "status": "completed"
    },
    "tags": []
   },
   "source": [
    "**4.0 Prepare Feature Matrix & Target Variable**"
   ]
  },
  {
   "cell_type": "code",
   "execution_count": 8,
   "id": "f7b94bf6",
   "metadata": {
    "execution": {
     "iopub.execute_input": "2025-08-07T01:35:37.617504Z",
     "iopub.status.busy": "2025-08-07T01:35:37.617158Z",
     "iopub.status.idle": "2025-08-07T01:35:37.623790Z",
     "shell.execute_reply": "2025-08-07T01:35:37.622921Z"
    },
    "papermill": {
     "duration": 0.016015,
     "end_time": "2025-08-07T01:35:37.625271",
     "exception": false,
     "start_time": "2025-08-07T01:35:37.609256",
     "status": "completed"
    },
    "tags": []
   },
   "outputs": [],
   "source": [
    "features = top_feats.index.tolist()\n",
    "\n",
    "x = df[features].copy()\n",
    "\n",
    "# encode M -> 1, B -> 0\n",
    "y = df['diagnosis'].map({'M':1, 'B':0})"
   ]
  },
  {
   "cell_type": "markdown",
   "id": "e6bfe9d8",
   "metadata": {
    "papermill": {
     "duration": 0.006761,
     "end_time": "2025-08-07T01:35:37.639002",
     "exception": false,
     "start_time": "2025-08-07T01:35:37.632241",
     "status": "completed"
    },
    "tags": []
   },
   "source": [
    "**4.1 Split Data into Training & Test Sets**"
   ]
  },
  {
   "cell_type": "code",
   "execution_count": 9,
   "id": "949c6e79",
   "metadata": {
    "execution": {
     "iopub.execute_input": "2025-08-07T01:35:37.655197Z",
     "iopub.status.busy": "2025-08-07T01:35:37.654887Z",
     "iopub.status.idle": "2025-08-07T01:35:37.933662Z",
     "shell.execute_reply": "2025-08-07T01:35:37.932756Z"
    },
    "papermill": {
     "duration": 0.288671,
     "end_time": "2025-08-07T01:35:37.935254",
     "exception": false,
     "start_time": "2025-08-07T01:35:37.646583",
     "status": "completed"
    },
    "tags": []
   },
   "outputs": [],
   "source": [
    "from sklearn.model_selection import train_test_split\n",
    "\n",
    "x_train, x_test, y_train, y_test = train_test_split(\n",
    "    x, y,\n",
    "    test_size = 0.2,\n",
    "    stratify = y,\n",
    "    random_state = 42\n",
    ")"
   ]
  },
  {
   "cell_type": "markdown",
   "id": "121fd042",
   "metadata": {
    "papermill": {
     "duration": 0.006678,
     "end_time": "2025-08-07T01:35:37.949086",
     "exception": false,
     "start_time": "2025-08-07T01:35:37.942408",
     "status": "completed"
    },
    "tags": []
   },
   "source": [
    "**4.2 Feature Scaling (Standardization)**"
   ]
  },
  {
   "cell_type": "code",
   "execution_count": 10,
   "id": "7be1ef2c",
   "metadata": {
    "execution": {
     "iopub.execute_input": "2025-08-07T01:35:37.964245Z",
     "iopub.status.busy": "2025-08-07T01:35:37.963931Z",
     "iopub.status.idle": "2025-08-07T01:35:37.973877Z",
     "shell.execute_reply": "2025-08-07T01:35:37.973009Z"
    },
    "papermill": {
     "duration": 0.019272,
     "end_time": "2025-08-07T01:35:37.975423",
     "exception": false,
     "start_time": "2025-08-07T01:35:37.956151",
     "status": "completed"
    },
    "tags": []
   },
   "outputs": [],
   "source": [
    "from sklearn.preprocessing import StandardScaler\n",
    "\n",
    "# tree-based models does not need scaling, but scale in case using different algorithm\n",
    "scaler = StandardScaler()\n",
    "x_train_scaled = scaler.fit_transform(x_train)\n",
    "x_test_scaled = scaler.transform(x_test)"
   ]
  },
  {
   "cell_type": "markdown",
   "id": "e4942316",
   "metadata": {
    "papermill": {
     "duration": 0.00671,
     "end_time": "2025-08-07T01:35:37.989144",
     "exception": false,
     "start_time": "2025-08-07T01:35:37.982434",
     "status": "completed"
    },
    "tags": []
   },
   "source": [
    "**5.0 Train & Evaluate Multiple Classifiers**"
   ]
  },
  {
   "cell_type": "code",
   "execution_count": 11,
   "id": "84a046ac",
   "metadata": {
    "execution": {
     "iopub.execute_input": "2025-08-07T01:35:38.004902Z",
     "iopub.status.busy": "2025-08-07T01:35:38.004246Z",
     "iopub.status.idle": "2025-08-07T01:35:41.350767Z",
     "shell.execute_reply": "2025-08-07T01:35:41.349919Z"
    },
    "papermill": {
     "duration": 3.356389,
     "end_time": "2025-08-07T01:35:41.352499",
     "exception": false,
     "start_time": "2025-08-07T01:35:37.996110",
     "status": "completed"
    },
    "tags": []
   },
   "outputs": [
    {
     "data": {
      "application/vnd.jupyter.widget-view+json": {
       "model_id": "56f687a9100d46e89c50bbb90e79ec66",
       "version_major": 2,
       "version_minor": 0
      },
      "text/plain": [
       "Training models:   0%|          | 0/6 [00:00<?, ?it/s]"
      ]
     },
     "metadata": {},
     "output_type": "display_data"
    },
    {
     "name": "stdout",
     "output_type": "stream",
     "text": [
      "=== Random Forest ===\n",
      "Accuracy: 0.9386\n",
      "              precision    recall  f1-score   support\n",
      "\n",
      "      Benign       0.91      1.00      0.95        72\n",
      "   Malignant       1.00      0.83      0.91        42\n",
      "\n",
      "    accuracy                           0.94       114\n",
      "   macro avg       0.96      0.92      0.93       114\n",
      "weighted avg       0.94      0.94      0.94       114\n",
      "\n",
      "Confusion Matrix:\n",
      " [[72  0]\n",
      " [ 7 35]] \n",
      "\n",
      "=== AdaBoost ===\n",
      "Accuracy: 0.9298\n",
      "              precision    recall  f1-score   support\n",
      "\n",
      "      Benign       0.91      0.99      0.95        72\n",
      "   Malignant       0.97      0.83      0.90        42\n",
      "\n",
      "    accuracy                           0.93       114\n",
      "   macro avg       0.94      0.91      0.92       114\n",
      "weighted avg       0.93      0.93      0.93       114\n",
      "\n",
      "Confusion Matrix:\n",
      " [[71  1]\n",
      " [ 7 35]] \n",
      "\n",
      "=== XGBoost ===\n",
      "Accuracy: 0.9561\n",
      "              precision    recall  f1-score   support\n",
      "\n",
      "      Benign       0.94      1.00      0.97        72\n",
      "   Malignant       1.00      0.88      0.94        42\n",
      "\n",
      "    accuracy                           0.96       114\n",
      "   macro avg       0.97      0.94      0.95       114\n",
      "weighted avg       0.96      0.96      0.96       114\n",
      "\n",
      "Confusion Matrix:\n",
      " [[72  0]\n",
      " [ 5 37]] \n",
      "\n",
      "=== Logistic Regression ===\n",
      "Accuracy: 0.9474\n",
      "              precision    recall  f1-score   support\n",
      "\n",
      "      Benign       0.93      0.99      0.96        72\n",
      "   Malignant       0.97      0.88      0.93        42\n",
      "\n",
      "    accuracy                           0.95       114\n",
      "   macro avg       0.95      0.93      0.94       114\n",
      "weighted avg       0.95      0.95      0.95       114\n",
      "\n",
      "Confusion Matrix:\n",
      " [[71  1]\n",
      " [ 5 37]] \n",
      "\n",
      "=== SVM ===\n",
      "Accuracy: 0.9123\n",
      "              precision    recall  f1-score   support\n",
      "\n",
      "      Benign       0.88      1.00      0.94        72\n",
      "   Malignant       1.00      0.76      0.86        42\n",
      "\n",
      "    accuracy                           0.91       114\n",
      "   macro avg       0.94      0.88      0.90       114\n",
      "weighted avg       0.92      0.91      0.91       114\n",
      "\n",
      "Confusion Matrix:\n",
      " [[72  0]\n",
      " [10 32]] \n",
      "\n",
      "=== KNN ===\n",
      "Accuracy: 0.9123\n",
      "              precision    recall  f1-score   support\n",
      "\n",
      "      Benign       0.89      0.99      0.93        72\n",
      "   Malignant       0.97      0.79      0.87        42\n",
      "\n",
      "    accuracy                           0.91       114\n",
      "   macro avg       0.93      0.89      0.90       114\n",
      "weighted avg       0.92      0.91      0.91       114\n",
      "\n",
      "Confusion Matrix:\n",
      " [[71  1]\n",
      " [ 9 33]] \n",
      "\n",
      "=== Summary Table ===\n",
      "              Model  Accuracy  Precision (M)  Recall (M)  F1-score (M)\n",
      "            XGBoost  0.956140       1.000000    0.880952      0.936709\n",
      "Logistic Regression  0.947368       0.973684    0.880952      0.925000\n",
      "      Random Forest  0.938596       1.000000    0.833333      0.909091\n",
      "           AdaBoost  0.929825       0.972222    0.833333      0.897436\n",
      "                SVM  0.912281       1.000000    0.761905      0.864865\n",
      "                KNN  0.912281       0.970588    0.785714      0.868421\n"
     ]
    }
   ],
   "source": [
    "from sklearn.ensemble import RandomForestClassifier, AdaBoostClassifier\n",
    "from xgboost import XGBClassifier\n",
    "from sklearn.linear_model import LogisticRegression\n",
    "from sklearn.svm import SVC\n",
    "from sklearn.neighbors import KNeighborsClassifier\n",
    "from sklearn.metrics import accuracy_score, classification_report, confusion_matrix\n",
    "from tqdm.auto import tqdm\n",
    "\n",
    "# dict of models\n",
    "models = {\n",
    "    'Random Forest': RandomForestClassifier(n_estimators=50, n_jobs=-1, random_state=42),\n",
    "    'AdaBoost': AdaBoostClassifier(random_state=42),\n",
    "    'XGBoost': XGBClassifier(use_label_encoder=False, eval_metric='logloss', n_jobs=-1, random_state=42),\n",
    "    'Logistic Regression': LogisticRegression(max_iter=1000, random_state=42),\n",
    "    'SVM': SVC(kernel='rbf', random_state=42),\n",
    "    'KNN': KNeighborsClassifier(n_neighbors=5, n_jobs=-1)\n",
    "}\n",
    "\n",
    "# container for summarizing malignant-class metrics\n",
    "results = []\n",
    "\n",
    "# loop, train, predict, print, and collect\n",
    "for name, model in tqdm(models.items(), desc=\"Training models\"):\n",
    "    model.fit(x_train, y_train) \n",
    "    y_pred = model.predict(x_test)\n",
    "    \n",
    "    print(f\"=== {name} ===\")\n",
    "    print(f\"Accuracy: {accuracy_score(y_test, y_pred):.4f}\")\n",
    "    print(classification_report(y_test, y_pred, target_names=['Benign','Malignant']))\n",
    "    print(\"Confusion Matrix:\\n\", confusion_matrix(y_test, y_pred), \"\\n\")\n",
    "    \n",
    "    # Store malignant-class precision/recall/f1\n",
    "    report = classification_report(y_test, y_pred, output_dict=True)\n",
    "    results.append({\n",
    "        'Model': name,\n",
    "        'Accuracy': accuracy_score(y_test, y_pred),\n",
    "        'Precision (M)': report['1']['precision'],\n",
    "        'Recall (M)': report['1']['recall'],\n",
    "        'F1-score (M)': report['1']['f1-score']\n",
    "    })\n",
    "\n",
    "# build a comparison table\n",
    "results_df = pd.DataFrame(results).sort_values('Accuracy', ascending=False)\n",
    "print(\"=== Summary Table ===\")\n",
    "print(results_df.to_string(index=False))"
   ]
  },
  {
   "cell_type": "markdown",
   "id": "652bc3ba",
   "metadata": {
    "papermill": {
     "duration": 0.007895,
     "end_time": "2025-08-07T01:35:41.368512",
     "exception": false,
     "start_time": "2025-08-07T01:35:41.360617",
     "status": "completed"
    },
    "tags": []
   },
   "source": [
    "**6.0 Conclusions**\n",
    "\n",
    "- XGBoost achieved 95.6% accuracy, best balance of detecting true positives (malignant tumors) while avoiding false alarms\n",
    "- If prioritizing minimizing missed malignancies, further tune XGBoost or adjust decision thresholds to increase recall\n",
    "- If prioritizing minimizing false positives, 100% precision with XGBoost & Random Forest seems promising"
   ]
  }
 ],
 "metadata": {
  "kaggle": {
   "accelerator": "none",
   "dataSources": [
    {
     "datasetId": 7975086,
     "sourceId": 12622449,
     "sourceType": "datasetVersion"
    }
   ],
   "dockerImageVersionId": 31089,
   "isGpuEnabled": false,
   "isInternetEnabled": false,
   "language": "python",
   "sourceType": "notebook"
  },
  "kernelspec": {
   "display_name": "Python 3",
   "language": "python",
   "name": "python3"
  },
  "language_info": {
   "codemirror_mode": {
    "name": "ipython",
    "version": 3
   },
   "file_extension": ".py",
   "mimetype": "text/x-python",
   "name": "python",
   "nbconvert_exporter": "python",
   "pygments_lexer": "ipython3",
   "version": "3.11.13"
  },
  "papermill": {
   "default_parameters": {},
   "duration": 15.228606,
   "end_time": "2025-08-07T01:35:42.196930",
   "environment_variables": {},
   "exception": null,
   "input_path": "__notebook__.ipynb",
   "output_path": "__notebook__.ipynb",
   "parameters": {},
   "start_time": "2025-08-07T01:35:26.968324",
   "version": "2.6.0"
  },
  "widgets": {
   "application/vnd.jupyter.widget-state+json": {
    "state": {
     "2ceb72c1a0fb4085874a0ff8f3f73ffc": {
      "model_module": "@jupyter-widgets/base",
      "model_module_version": "2.0.0",
      "model_name": "LayoutModel",
      "state": {
       "_model_module": "@jupyter-widgets/base",
       "_model_module_version": "2.0.0",
       "_model_name": "LayoutModel",
       "_view_count": null,
       "_view_module": "@jupyter-widgets/base",
       "_view_module_version": "2.0.0",
       "_view_name": "LayoutView",
       "align_content": null,
       "align_items": null,
       "align_self": null,
       "border_bottom": null,
       "border_left": null,
       "border_right": null,
       "border_top": null,
       "bottom": null,
       "display": null,
       "flex": null,
       "flex_flow": null,
       "grid_area": null,
       "grid_auto_columns": null,
       "grid_auto_flow": null,
       "grid_auto_rows": null,
       "grid_column": null,
       "grid_gap": null,
       "grid_row": null,
       "grid_template_areas": null,
       "grid_template_columns": null,
       "grid_template_rows": null,
       "height": null,
       "justify_content": null,
       "justify_items": null,
       "left": null,
       "margin": null,
       "max_height": null,
       "max_width": null,
       "min_height": null,
       "min_width": null,
       "object_fit": null,
       "object_position": null,
       "order": null,
       "overflow": null,
       "padding": null,
       "right": null,
       "top": null,
       "visibility": null,
       "width": null
      }
     },
     "3036e76f8e324d908cf7f3f3a475139a": {
      "model_module": "@jupyter-widgets/base",
      "model_module_version": "2.0.0",
      "model_name": "LayoutModel",
      "state": {
       "_model_module": "@jupyter-widgets/base",
       "_model_module_version": "2.0.0",
       "_model_name": "LayoutModel",
       "_view_count": null,
       "_view_module": "@jupyter-widgets/base",
       "_view_module_version": "2.0.0",
       "_view_name": "LayoutView",
       "align_content": null,
       "align_items": null,
       "align_self": null,
       "border_bottom": null,
       "border_left": null,
       "border_right": null,
       "border_top": null,
       "bottom": null,
       "display": null,
       "flex": null,
       "flex_flow": null,
       "grid_area": null,
       "grid_auto_columns": null,
       "grid_auto_flow": null,
       "grid_auto_rows": null,
       "grid_column": null,
       "grid_gap": null,
       "grid_row": null,
       "grid_template_areas": null,
       "grid_template_columns": null,
       "grid_template_rows": null,
       "height": null,
       "justify_content": null,
       "justify_items": null,
       "left": null,
       "margin": null,
       "max_height": null,
       "max_width": null,
       "min_height": null,
       "min_width": null,
       "object_fit": null,
       "object_position": null,
       "order": null,
       "overflow": null,
       "padding": null,
       "right": null,
       "top": null,
       "visibility": null,
       "width": null
      }
     },
     "354d16b30fc34e24b82c7ea63fa58acc": {
      "model_module": "@jupyter-widgets/controls",
      "model_module_version": "2.0.0",
      "model_name": "FloatProgressModel",
      "state": {
       "_dom_classes": [],
       "_model_module": "@jupyter-widgets/controls",
       "_model_module_version": "2.0.0",
       "_model_name": "FloatProgressModel",
       "_view_count": null,
       "_view_module": "@jupyter-widgets/controls",
       "_view_module_version": "2.0.0",
       "_view_name": "ProgressView",
       "bar_style": "success",
       "description": "",
       "description_allow_html": false,
       "layout": "IPY_MODEL_2ceb72c1a0fb4085874a0ff8f3f73ffc",
       "max": 6.0,
       "min": 0.0,
       "orientation": "horizontal",
       "style": "IPY_MODEL_a2cc7e1b7b034394a3a9764c52fce918",
       "tabbable": null,
       "tooltip": null,
       "value": 6.0
      }
     },
     "386610ed0f3d451f9477953fda2cda0f": {
      "model_module": "@jupyter-widgets/controls",
      "model_module_version": "2.0.0",
      "model_name": "HTMLModel",
      "state": {
       "_dom_classes": [],
       "_model_module": "@jupyter-widgets/controls",
       "_model_module_version": "2.0.0",
       "_model_name": "HTMLModel",
       "_view_count": null,
       "_view_module": "@jupyter-widgets/controls",
       "_view_module_version": "2.0.0",
       "_view_name": "HTMLView",
       "description": "",
       "description_allow_html": false,
       "layout": "IPY_MODEL_df406e48134f4a44a6ef0d9594de7d72",
       "placeholder": "​",
       "style": "IPY_MODEL_cb016ce1b75f4266a5a4316838a87674",
       "tabbable": null,
       "tooltip": null,
       "value": "Training models: 100%"
      }
     },
     "56f687a9100d46e89c50bbb90e79ec66": {
      "model_module": "@jupyter-widgets/controls",
      "model_module_version": "2.0.0",
      "model_name": "HBoxModel",
      "state": {
       "_dom_classes": [],
       "_model_module": "@jupyter-widgets/controls",
       "_model_module_version": "2.0.0",
       "_model_name": "HBoxModel",
       "_view_count": null,
       "_view_module": "@jupyter-widgets/controls",
       "_view_module_version": "2.0.0",
       "_view_name": "HBoxView",
       "box_style": "",
       "children": [
        "IPY_MODEL_386610ed0f3d451f9477953fda2cda0f",
        "IPY_MODEL_354d16b30fc34e24b82c7ea63fa58acc",
        "IPY_MODEL_80efb2ef10d545afa944d32ce05dda28"
       ],
       "layout": "IPY_MODEL_3036e76f8e324d908cf7f3f3a475139a",
       "tabbable": null,
       "tooltip": null
      }
     },
     "80efb2ef10d545afa944d32ce05dda28": {
      "model_module": "@jupyter-widgets/controls",
      "model_module_version": "2.0.0",
      "model_name": "HTMLModel",
      "state": {
       "_dom_classes": [],
       "_model_module": "@jupyter-widgets/controls",
       "_model_module_version": "2.0.0",
       "_model_name": "HTMLModel",
       "_view_count": null,
       "_view_module": "@jupyter-widgets/controls",
       "_view_module_version": "2.0.0",
       "_view_name": "HTMLView",
       "description": "",
       "description_allow_html": false,
       "layout": "IPY_MODEL_b070981393c04c6d93341a1f5f7010f2",
       "placeholder": "​",
       "style": "IPY_MODEL_a56d8cb36d2246508920b40a109887d2",
       "tabbable": null,
       "tooltip": null,
       "value": " 6/6 [00:02&lt;00:00,  1.13it/s]"
      }
     },
     "a2cc7e1b7b034394a3a9764c52fce918": {
      "model_module": "@jupyter-widgets/controls",
      "model_module_version": "2.0.0",
      "model_name": "ProgressStyleModel",
      "state": {
       "_model_module": "@jupyter-widgets/controls",
       "_model_module_version": "2.0.0",
       "_model_name": "ProgressStyleModel",
       "_view_count": null,
       "_view_module": "@jupyter-widgets/base",
       "_view_module_version": "2.0.0",
       "_view_name": "StyleView",
       "bar_color": null,
       "description_width": ""
      }
     },
     "a56d8cb36d2246508920b40a109887d2": {
      "model_module": "@jupyter-widgets/controls",
      "model_module_version": "2.0.0",
      "model_name": "HTMLStyleModel",
      "state": {
       "_model_module": "@jupyter-widgets/controls",
       "_model_module_version": "2.0.0",
       "_model_name": "HTMLStyleModel",
       "_view_count": null,
       "_view_module": "@jupyter-widgets/base",
       "_view_module_version": "2.0.0",
       "_view_name": "StyleView",
       "background": null,
       "description_width": "",
       "font_size": null,
       "text_color": null
      }
     },
     "b070981393c04c6d93341a1f5f7010f2": {
      "model_module": "@jupyter-widgets/base",
      "model_module_version": "2.0.0",
      "model_name": "LayoutModel",
      "state": {
       "_model_module": "@jupyter-widgets/base",
       "_model_module_version": "2.0.0",
       "_model_name": "LayoutModel",
       "_view_count": null,
       "_view_module": "@jupyter-widgets/base",
       "_view_module_version": "2.0.0",
       "_view_name": "LayoutView",
       "align_content": null,
       "align_items": null,
       "align_self": null,
       "border_bottom": null,
       "border_left": null,
       "border_right": null,
       "border_top": null,
       "bottom": null,
       "display": null,
       "flex": null,
       "flex_flow": null,
       "grid_area": null,
       "grid_auto_columns": null,
       "grid_auto_flow": null,
       "grid_auto_rows": null,
       "grid_column": null,
       "grid_gap": null,
       "grid_row": null,
       "grid_template_areas": null,
       "grid_template_columns": null,
       "grid_template_rows": null,
       "height": null,
       "justify_content": null,
       "justify_items": null,
       "left": null,
       "margin": null,
       "max_height": null,
       "max_width": null,
       "min_height": null,
       "min_width": null,
       "object_fit": null,
       "object_position": null,
       "order": null,
       "overflow": null,
       "padding": null,
       "right": null,
       "top": null,
       "visibility": null,
       "width": null
      }
     },
     "cb016ce1b75f4266a5a4316838a87674": {
      "model_module": "@jupyter-widgets/controls",
      "model_module_version": "2.0.0",
      "model_name": "HTMLStyleModel",
      "state": {
       "_model_module": "@jupyter-widgets/controls",
       "_model_module_version": "2.0.0",
       "_model_name": "HTMLStyleModel",
       "_view_count": null,
       "_view_module": "@jupyter-widgets/base",
       "_view_module_version": "2.0.0",
       "_view_name": "StyleView",
       "background": null,
       "description_width": "",
       "font_size": null,
       "text_color": null
      }
     },
     "df406e48134f4a44a6ef0d9594de7d72": {
      "model_module": "@jupyter-widgets/base",
      "model_module_version": "2.0.0",
      "model_name": "LayoutModel",
      "state": {
       "_model_module": "@jupyter-widgets/base",
       "_model_module_version": "2.0.0",
       "_model_name": "LayoutModel",
       "_view_count": null,
       "_view_module": "@jupyter-widgets/base",
       "_view_module_version": "2.0.0",
       "_view_name": "LayoutView",
       "align_content": null,
       "align_items": null,
       "align_self": null,
       "border_bottom": null,
       "border_left": null,
       "border_right": null,
       "border_top": null,
       "bottom": null,
       "display": null,
       "flex": null,
       "flex_flow": null,
       "grid_area": null,
       "grid_auto_columns": null,
       "grid_auto_flow": null,
       "grid_auto_rows": null,
       "grid_column": null,
       "grid_gap": null,
       "grid_row": null,
       "grid_template_areas": null,
       "grid_template_columns": null,
       "grid_template_rows": null,
       "height": null,
       "justify_content": null,
       "justify_items": null,
       "left": null,
       "margin": null,
       "max_height": null,
       "max_width": null,
       "min_height": null,
       "min_width": null,
       "object_fit": null,
       "object_position": null,
       "order": null,
       "overflow": null,
       "padding": null,
       "right": null,
       "top": null,
       "visibility": null,
       "width": null
      }
     }
    },
    "version_major": 2,
    "version_minor": 0
   }
  }
 },
 "nbformat": 4,
 "nbformat_minor": 5
}
